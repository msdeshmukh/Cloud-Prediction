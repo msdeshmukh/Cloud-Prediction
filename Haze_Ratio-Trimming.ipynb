{
 "cells": [
  {
   "cell_type": "code",
   "execution_count": 1,
   "metadata": {},
   "outputs": [],
   "source": [
    "%matplotlib inline\n",
    "import warnings\n",
    "warnings.filterwarnings('ignore')"
   ]
  },
  {
   "cell_type": "code",
   "execution_count": 2,
   "metadata": {},
   "outputs": [
    {
     "ename": "ModuleNotFoundError",
     "evalue": "No module named 'pvlib'",
     "output_type": "error",
     "traceback": [
      "\u001b[1;31m---------------------------------------------------------------------------\u001b[0m",
      "\u001b[1;31mModuleNotFoundError\u001b[0m                       Traceback (most recent call last)",
      "\u001b[1;32m<ipython-input-2-6810d7b51d7f>\u001b[0m in \u001b[0;36m<module>\u001b[1;34m\u001b[0m\n\u001b[0;32m      8\u001b[0m \u001b[1;32mfrom\u001b[0m \u001b[0mskimage\u001b[0m\u001b[1;33m.\u001b[0m\u001b[0mfilters\u001b[0m \u001b[1;32mimport\u001b[0m \u001b[0mmedian\u001b[0m\u001b[1;33m\u001b[0m\u001b[1;33m\u001b[0m\u001b[0m\n\u001b[0;32m      9\u001b[0m \u001b[1;32mimport\u001b[0m \u001b[0mos\u001b[0m\u001b[1;33m\u001b[0m\u001b[1;33m\u001b[0m\u001b[0m\n\u001b[1;32m---> 10\u001b[1;33m \u001b[1;32mimport\u001b[0m \u001b[0mpvlib\u001b[0m\u001b[1;33m\u001b[0m\u001b[1;33m\u001b[0m\u001b[0m\n\u001b[0m",
      "\u001b[1;31mModuleNotFoundError\u001b[0m: No module named 'pvlib'"
     ]
    }
   ],
   "source": [
    "from skimage import io, filters, draw\n",
    "import numpy as np\n",
    "import pandas as pd\n",
    "import matplotlib.pyplot as plt\n",
    "from skimage.color import rgb2gray\n",
    "from skimage import data\n",
    "from skimage.morphology import disk\n",
    "from skimage.filters import median\n",
    "import os\n",
    "import pvlib"
   ]
  },
  {
   "cell_type": "code",
   "execution_count": null,
   "metadata": {},
   "outputs": [],
   "source": [
    "def Trim_Outer_Circle(sky):\n",
    "    # Trim out the extra black on the left and right side of the image\n",
    "    x1_trim = 300\n",
    "    x2_trim = 2280\n",
    "    \n",
    "    # Determine the dimensions of the image\n",
    "    width = sky.shape[0]\n",
    "    height = sky.shape[1]\n",
    "    center_on_width = int(width / 2)\n",
    "    center_on_height = int(height / 2)\n",
    "    width, height, center_on_width, center_on_height\n",
    "    circle_radius = 971\n",
    "    \n",
    "    # Trim the pixels around the sky\n",
    "    sky_circle = np.zeros((width, height), dtype=np.uint8)\n",
    "    rr, cc = draw.circle(center_on_width, center_on_height, circle_radius)\n",
    "    sky_circle[rr, cc] = 1\n",
    "    sky_trimmed = sky.copy()\n",
    "    sky_trimmed[sky_circle == 0] = 0\n",
    "    return sky_trimmed[:, x1_trim : x2_trim]\n",
    "    \n",
    "def Load_And_Trim(filename):\n",
    "    sky = io.imread(filename)\n",
    "    sky_trimmed = Trim_Outer_Circle(sky)\n",
    "    return sky_trimmed\n"
   ]
  },
  {
   "cell_type": "code",
   "execution_count": null,
   "metadata": {},
   "outputs": [],
   "source": [
    "def Process_Image_Haze_Ratio(image_path):\n",
    "    sky_trimmed = Load_And_Trim(image_path)\n",
    "    haze_numerator = ((sky_trimmed[..., 0] + sky_trimmed[..., 2])/2) - sky_trimmed[..., 1]\n",
    "    haze_denominator = ((sky_trimmed[..., 0] + sky_trimmed[..., 2])/2) + sky_trimmed[..., 1]\n",
    "    haze_ratio = haze_numerator/haze_denominator\n",
    "    \n",
    "    \n",
    "    return haze_ratio"
   ]
  },
  {
   "cell_type": "code",
   "execution_count": null,
   "metadata": {},
   "outputs": [],
   "source": [
    "image_path = os.getcwd() +'\\\\Sky_Camera_Images\\\\' + '2018-11-22 09~20~00-07~00.jpg'\n",
    "print(image_path)\n",
    "trimmed = Load_And_Trim(image_path)\n",
    "plt.imshow(trimmed)"
   ]
  },
  {
   "cell_type": "code",
   "execution_count": null,
   "metadata": {},
   "outputs": [],
   "source": [
    "#Example of image with Haze filter applied\n",
    "image_path = os.getcwd() +'\\\\Sky_Camera_Images\\\\' + '2018-11-22 09~20~00-07~00.jpg'\n",
    "hazed_ratio = Process_Image_Haze_Ratio(image_path)\n",
    "hazed_sky = rgb2gray(hazed_ratio)\n",
    "plt.imshow(hazed_sky)"
   ]
  },
  {
   "cell_type": "code",
   "execution_count": null,
   "metadata": {},
   "outputs": [],
   "source": [
    "# Apply a median filter to image with haze filter\n",
    "image_path = os.getcwd() +'\\\\Sky_Camera_Images\\\\' + '2018-11-22 09~20~00-07~00.jpg'\n",
    "hazed_ratio = Process_Image_Haze_Ratio(image_path)\n",
    "hazed_sky = median(hazed_ratio, disk(10))\n",
    "plt.imshow(hazed_sky)\n",
    "\n",
    "\n"
   ]
  },
  {
   "cell_type": "code",
   "execution_count": null,
   "metadata": {},
   "outputs": [],
   "source": [
    "#Zenith Calculation\n",
    "#Found from google maps\n",
    "gold_tree_longitude = 35.3195311\n",
    "gold_tree_latitude = -120.6908325\n",
    "sun_data = pvlib.solarposition.ephemeris('2018-11-22 09:20:00', gold_tree_latitude, gold_tree_longitude, pressure=101325, temperature=12)\n",
    "print(sun_data.zenith)"
   ]
  },
  {
   "cell_type": "code",
   "execution_count": null,
   "metadata": {},
   "outputs": [],
   "source": []
  }
 ],
 "metadata": {
  "kernelspec": {
   "display_name": "Python 3",
   "language": "python",
   "name": "python3"
  },
  "language_info": {
   "codemirror_mode": {
    "name": "ipython",
    "version": 3
   },
   "file_extension": ".py",
   "mimetype": "text/x-python",
   "name": "python",
   "nbconvert_exporter": "python",
   "pygments_lexer": "ipython3",
   "version": "3.7.6"
  }
 },
 "nbformat": 4,
 "nbformat_minor": 2
}
